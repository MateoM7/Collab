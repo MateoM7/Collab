{
  "nbformat": 4,
  "nbformat_minor": 0,
  "metadata": {
    "colab": {
      "provenance": [],
      "authorship_tag": "ABX9TyPSTy4Tns6tqRZghzQJhtw/",
      "include_colab_link": true
    },
    "kernelspec": {
      "name": "python3",
      "display_name": "Python 3"
    },
    "language_info": {
      "name": "python"
    }
  },
  "cells": [
    {
      "cell_type": "markdown",
      "metadata": {
        "id": "view-in-github",
        "colab_type": "text"
      },
      "source": [
        "<a href=\"https://colab.research.google.com/github/MateoM7/Collab/blob/main/Act_06_Martinez_Larra%C3%B1aga_Mateo.ipynb\" target=\"_parent\"><img src=\"https://colab.research.google.com/assets/colab-badge.svg\" alt=\"Open In Colab\"/></a>"
      ]
    },
    {
      "cell_type": "code",
      "execution_count": 9,
      "metadata": {
        "colab": {
          "base_uri": "https://localhost:8080/"
        },
        "id": "nTd51KhHlHDN",
        "outputId": "ecc8ed6d-af61-40cd-cd27-d2df4416a895"
      },
      "outputs": [
        {
          "output_type": "stream",
          "name": "stdout",
          "text": [
            "                             nombre  edad sexo   peso  altura  colesterol\n",
            "0      José Luis Martínez Izquierdo    18    H   85.0    1.79       182.0\n",
            "1                    Rosa Díaz Díaz    32    M   65.0    1.73       232.0\n",
            "2             Javier García Sánchez    24    H    NaN    1.81       191.0\n",
            "3               Carmen López Pinzón    35    M   65.0    1.70       200.0\n",
            "4              Marisa López Collado    46    M   51.0    1.58       148.0\n",
            "5                 Antonio Ruiz Cruz    68    H   66.0    1.74       249.0\n",
            "6           Antonio Fernández Ocaña    51    H   62.0    1.72       276.0\n",
            "7             Pilar Martín González    22    M   60.0    1.66         NaN\n",
            "8              Pedro Gálvez Tenorio    35    H   90.0    1.94       241.0\n",
            "9           Santiago Reillo Manzano    46    H   75.0    1.85       280.0\n",
            "10            Macarena Álvarez Luna    53    M   55.0    1.62       262.0\n",
            "11       José María de la Guía Sanz    58    H   78.0    1.87       198.0\n",
            "12  Miguel Angel Cuadrado Gutiérrez    27    H  109.0    1.98       210.0\n",
            "13            Carolina Rubio Moreno    20    M   61.0    1.77       194.0\n",
            "el promedio de la edad es de: \n",
            "38.21\n"
          ]
        }
      ],
      "source": [
        "import numpy as np\n",
        "import pandas as pd\n",
        "\n",
        "df=pd.read_csv('https://raw.githubusercontent.com/asalber/manual-python/master/datos/colesterol.csv')\n",
        "print(df)\n",
        "print(\"el promedio de la edad es de: \")\n",
        "print(round(df[\"edad\"].mean(),2))"
      ]
    }
  ]
}